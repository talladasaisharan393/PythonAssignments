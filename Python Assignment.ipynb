{
 "cells": [
  {
   "cell_type": "markdown",
   "id": "0fb8e4ec",
   "metadata": {},
   "source": [
    "Name: Tallada Sai Sharan <br>\n",
    "Gmail: 20d41a04k5@gmail.com <br>\n",
    "Cellno: 9059986243"
   ]
  },
  {
   "cell_type": "markdown",
   "id": "2a52ddfd",
   "metadata": {},
   "source": [
    "Define a variable my_integer with the value 42. Create a variable my_float withthe value 3.14. Declare a variable my_string with the value \"Hello, Python!\".Print the type of each variable.\n"
   ]
  },
  {
   "cell_type": "code",
   "execution_count": 1,
   "id": "616a942d",
   "metadata": {},
   "outputs": [
    {
     "name": "stdout",
     "output_type": "stream",
     "text": [
      "<class 'int'>\n",
      "<class 'str'>\n",
      "<class 'float'>\n"
     ]
    }
   ],
   "source": [
    "my_integer=42\n",
    "my_float=3.14\n",
    "my_string=\"Hello, Python!\"\n",
    "\n",
    "print(type(my_integer))\n",
    "print(type(my_string))\n",
    "print(type(my_float))"
   ]
  },
  {
   "cell_type": "markdown",
   "id": "94a691a5",
   "metadata": {},
   "source": [
    "Implement a program that calculates the area of a rectangle. Take the length and width as input from the user."
   ]
  },
  {
   "cell_type": "code",
   "execution_count": 2,
   "id": "78e4fd10",
   "metadata": {},
   "outputs": [
    {
     "name": "stdout",
     "output_type": "stream",
     "text": [
      "Enter length of rectangle:15\n",
      "Enter breadth of rectangle:4\n",
      "Area of rectangle is : 60\n"
     ]
    }
   ],
   "source": [
    "len_of_rec=int(input(\"Enter length of rectangle:\"))\n",
    "bred_of_rec=int(input(\"Enter breadth of rectangle:\"))\n",
    "\n",
    "area_of_rec=len_of_rec*bred_of_rec\n",
    "\n",
    "print(\"Area of rectangle is :\",area_of_rec)"
   ]
  },
  {
   "cell_type": "markdown",
   "id": "f2a57fd0",
   "metadata": {},
   "source": [
    "Use the modulo operator to find the remainder when dividing 15 by 4.\n"
   ]
  },
  {
   "cell_type": "code",
   "execution_count": 3,
   "id": "d44875eb",
   "metadata": {},
   "outputs": [
    {
     "data": {
      "text/plain": [
       "3"
      ]
     },
     "execution_count": 3,
     "metadata": {},
     "output_type": "execute_result"
    }
   ],
   "source": [
    "a=15%4\n",
    "a"
   ]
  },
  {
   "cell_type": "markdown",
   "id": "c9228913",
   "metadata": {},
   "source": [
    "Write a program that checks if a number is positive, negative, or zero. Take the number as input from the user."
   ]
  },
  {
   "cell_type": "code",
   "execution_count": 4,
   "id": "96fda6cd",
   "metadata": {},
   "outputs": [
    {
     "name": "stdout",
     "output_type": "stream",
     "text": [
      "Enter a number :0\n",
      "The entered number is zero\n"
     ]
    }
   ],
   "source": [
    "num=int(input(\"Enter a number :\"))\n",
    "\n",
    "if num<0:\n",
    "    print(\"The entered number is negative\")\n",
    "elif num==0:\n",
    "    print(\"The entered number is zero\")\n",
    "else:\n",
    "    print(\"The entered number s positive\")"
   ]
  },
  {
   "cell_type": "markdown",
   "id": "97a61e2e",
   "metadata": {},
   "source": [
    "Implement a program that determines if a given year is a leap year.\n"
   ]
  },
  {
   "cell_type": "code",
   "execution_count": 5,
   "id": "7a9eed56",
   "metadata": {},
   "outputs": [
    {
     "name": "stdout",
     "output_type": "stream",
     "text": [
      "Enter a year: 2012\n",
      "2012 is a leap year\n"
     ]
    }
   ],
   "source": [
    "year = int(input(\"Enter a year: \"))\n",
    "\n",
    "if (year % 4 == 0 and year % 100 != 0) or (year % 400 == 0):\n",
    "    print(year, \"is a leap year\")\n",
    "else:\n",
    "    print(year, \"is not a leap year\")\n"
   ]
  },
  {
   "cell_type": "markdown",
   "id": "30077b4d",
   "metadata": {},
   "source": [
    "Use a while loop to print the square of numbers from 1 to 5"
   ]
  },
  {
   "cell_type": "code",
   "execution_count": 6,
   "id": "8f343ad3",
   "metadata": {},
   "outputs": [
    {
     "name": "stdout",
     "output_type": "stream",
     "text": [
      "1\n",
      "4\n",
      "9\n",
      "16\n",
      "25\n"
     ]
    }
   ],
   "source": [
    "j=1\n",
    "while j==1:\n",
    "    j=j+1\n",
    "    for i in range(1,6):\n",
    "        sqr=i*i\n",
    "        print(sqr)"
   ]
  },
  {
   "cell_type": "markdown",
   "id": "da649013",
   "metadata": {},
   "source": [
    "Use a for loop to print each character of the string \"Python\"."
   ]
  },
  {
   "cell_type": "code",
   "execution_count": 7,
   "id": "0e883683",
   "metadata": {},
   "outputs": [
    {
     "name": "stdout",
     "output_type": "stream",
     "text": [
      "P\n",
      "y\n",
      "t\n",
      "h\n",
      "o\n",
      "n\n"
     ]
    }
   ],
   "source": [
    "string=\"Python\"\n",
    "for i in string:\n",
    "    print(i)"
   ]
  },
  {
   "cell_type": "markdown",
   "id": "ef5b2d57",
   "metadata": {},
   "source": [
    "Create a function add_numbers that takes any number of arguments and returns their sum"
   ]
  },
  {
   "cell_type": "code",
   "execution_count": 8,
   "id": "e33f459e",
   "metadata": {},
   "outputs": [
    {
     "data": {
      "text/plain": [
       "62"
      ]
     },
     "execution_count": 8,
     "metadata": {},
     "output_type": "execute_result"
    }
   ],
   "source": [
    "def add_numbers(*args):\n",
    "    sum=0\n",
    "    for num in args:\n",
    "        sum+=num\n",
    "    return sum\n",
    "\n",
    "add_numbers(1,2,25,7,8,9,5,4,1)"
   ]
  },
  {
   "cell_type": "markdown",
   "id": "91976728",
   "metadata": {},
   "source": [
    "Define a function print_info that takes any number of keyword arguments and prints them."
   ]
  },
  {
   "cell_type": "code",
   "execution_count": 9,
   "id": "f9f1caac",
   "metadata": {},
   "outputs": [
    {
     "name": "stdout",
     "output_type": "stream",
     "text": [
      "name: Sai\n",
      "insta_id: saiismart.edits\n",
      "age: 20\n"
     ]
    }
   ],
   "source": [
    "def print_info(**kwargs):\n",
    "    for key, value in kwargs.items():\n",
    "        print(key + \": \" + str(value))\n",
    "        \n",
    "print_info(name=\"Sai\", insta_id=\"saiismart.edits\", age=20)"
   ]
  },
  {
   "cell_type": "markdown",
   "id": "d596628f",
   "metadata": {},
   "source": [
    "Write a lambda function to calculate the square of a number."
   ]
  },
  {
   "cell_type": "code",
   "execution_count": 10,
   "id": "ac457dce",
   "metadata": {},
   "outputs": [
    {
     "data": {
      "text/plain": [
       "81"
      ]
     },
     "execution_count": 10,
     "metadata": {},
     "output_type": "execute_result"
    }
   ],
   "source": [
    "square = lambda x: x*x\n",
    "\n",
    "square(9)"
   ]
  },
  {
   "cell_type": "markdown",
   "id": "feab8ae6",
   "metadata": {},
   "source": [
    "Create a list of numbers and use the lambda function with the map function to get a list of their squares.\n"
   ]
  },
  {
   "cell_type": "code",
   "execution_count": 11,
   "id": "b2fd24f8",
   "metadata": {},
   "outputs": [
    {
     "data": {
      "text/plain": [
       "[1, 4, 9, 16, 25]"
      ]
     },
     "execution_count": 11,
     "metadata": {},
     "output_type": "execute_result"
    }
   ],
   "source": [
    "list_of_num=[1,2,3,4,5]\n",
    "squares=list(map(square,list_of_num))\n",
    "squares"
   ]
  },
  {
   "cell_type": "markdown",
   "id": "69a86471",
   "metadata": {},
   "source": [
    "Map:\n",
    "\n",
    "Define a function double that takes a number as input and returns its double"
   ]
  },
  {
   "cell_type": "code",
   "execution_count": 12,
   "id": "060edc5b",
   "metadata": {},
   "outputs": [
    {
     "data": {
      "text/plain": [
       "16"
      ]
     },
     "execution_count": 12,
     "metadata": {},
     "output_type": "execute_result"
    }
   ],
   "source": [
    "def double(num):\n",
    "    return num*2\n",
    "double(8)"
   ]
  },
  {
   "cell_type": "markdown",
   "id": "4079afaf",
   "metadata": {},
   "source": [
    "Use the map function to double each element in a list of numbers."
   ]
  },
  {
   "cell_type": "code",
   "execution_count": 13,
   "id": "2c26e832",
   "metadata": {},
   "outputs": [
    {
     "data": {
      "text/plain": [
       "[112, 148, 20]"
      ]
     },
     "execution_count": 13,
     "metadata": {},
     "output_type": "execute_result"
    }
   ],
   "source": [
    "list_dou=[56,74,10]\n",
    "doubles=list(map(double,list_dou))\n",
    "doubles"
   ]
  },
  {
   "cell_type": "markdown",
   "id": "1e9014f6",
   "metadata": {},
   "source": [
    "Create a list of numbers and use the filter function to get only the even numbers."
   ]
  },
  {
   "cell_type": "code",
   "execution_count": 14,
   "id": "ea248a7f",
   "metadata": {},
   "outputs": [
    {
     "data": {
      "text/plain": [
       "[8, 6]"
      ]
     },
     "execution_count": 14,
     "metadata": {},
     "output_type": "execute_result"
    }
   ],
   "source": [
    "num_list=[1,8,7,5,6,9,3]\n",
    "\n",
    "list(filter(lambda n : n%2 == 0 , num_list))"
   ]
  },
  {
   "cell_type": "markdown",
   "id": "ce4ca457",
   "metadata": {},
   "source": [
    "Define a function is_prime to check if a number is prime."
   ]
  },
  {
   "cell_type": "code",
   "execution_count": 15,
   "id": "029f5295",
   "metadata": {},
   "outputs": [
    {
     "data": {
      "text/plain": [
       "True"
      ]
     },
     "execution_count": 15,
     "metadata": {},
     "output_type": "execute_result"
    }
   ],
   "source": [
    "def is_prime(num_p):\n",
    "    if num_p == 1:\n",
    "        return False\n",
    "    elif num_p > 1:\n",
    "       for i in range(2,num_p):\n",
    "           if (num_p % i) == 0:\n",
    "               return False\n",
    "               break\n",
    "       else:\n",
    "           return True\n",
    "    else:\n",
    "       return False\n",
    "is_prime(19)"
   ]
  },
  {
   "cell_type": "markdown",
   "id": "39ca2a1e",
   "metadata": {},
   "source": [
    "Use filter to get a list of prime numbers from another list."
   ]
  },
  {
   "cell_type": "code",
   "execution_count": 16,
   "id": "c5f58fcc",
   "metadata": {},
   "outputs": [
    {
     "data": {
      "text/plain": [
       "[29, 83, 17, 13]"
      ]
     },
     "execution_count": 16,
     "metadata": {},
     "output_type": "execute_result"
    }
   ],
   "source": [
    "num_plist=[1,8,29,83,17,13,85,69]\n",
    "\n",
    "list(filter(is_prime,num_plist))"
   ]
  },
  {
   "cell_type": "markdown",
   "id": "7a6a398e",
   "metadata": {},
   "source": [
    "Write a program using all to check if all elements in a list are integers."
   ]
  },
  {
   "cell_type": "code",
   "execution_count": 17,
   "id": "a6a6e31a",
   "metadata": {},
   "outputs": [
    {
     "data": {
      "text/plain": [
       "False"
      ]
     },
     "execution_count": 17,
     "metadata": {},
     "output_type": "execute_result"
    }
   ],
   "source": [
    "lis_of_nums=[1,2.0,-5,12,2.3,15,-9,-6]\n",
    "\n",
    "all(type(i)==int for i in lis_of_nums)"
   ]
  },
  {
   "cell_type": "code",
   "execution_count": 18,
   "id": "82a3eb6d",
   "metadata": {},
   "outputs": [
    {
     "data": {
      "text/plain": [
       "True"
      ]
     },
     "execution_count": 18,
     "metadata": {},
     "output_type": "execute_result"
    }
   ],
   "source": [
    "lis_of_nums2=[1,2,3,9,-8]\n",
    "\n",
    "all(type(i)==int for i in lis_of_nums2)"
   ]
  },
  {
   "cell_type": "markdown",
   "id": "22c8f698",
   "metadata": {},
   "source": [
    "Implement a program using any to check if any string in a list is longer than 8 characters."
   ]
  },
  {
   "cell_type": "code",
   "execution_count": 19,
   "id": "f1bc598d",
   "metadata": {},
   "outputs": [
    {
     "data": {
      "text/plain": [
       "True"
      ]
     },
     "execution_count": 19,
     "metadata": {},
     "output_type": "execute_result"
    }
   ],
   "source": [
    "lis_of_str=[\"apple\",\"banana\",\"aeroplane\",\"implementation\"]\n",
    "\n",
    "any(len(i)>8 for i in lis_of_str)"
   ]
  },
  {
   "cell_type": "code",
   "execution_count": 20,
   "id": "d0dea89f",
   "metadata": {},
   "outputs": [
    {
     "data": {
      "text/plain": [
       "False"
      ]
     },
     "execution_count": 20,
     "metadata": {},
     "output_type": "execute_result"
    }
   ],
   "source": [
    "lis_of_str2=[\"apple\",\"banana\",\"sai\",\"1234546\"]\n",
    "\n",
    "any(len(i)>8 for i in lis_of_str2)"
   ]
  },
  {
   "cell_type": "code",
   "execution_count": null,
   "id": "74f9b158",
   "metadata": {},
   "outputs": [],
   "source": []
  },
  {
   "cell_type": "code",
   "execution_count": null,
   "id": "368e8bad",
   "metadata": {},
   "outputs": [],
   "source": []
  },
  {
   "cell_type": "code",
   "execution_count": null,
   "id": "1f728747",
   "metadata": {},
   "outputs": [],
   "source": []
  }
 ],
 "metadata": {
  "kernelspec": {
   "display_name": "Python 3 (ipykernel)",
   "language": "python",
   "name": "python3"
  },
  "language_info": {
   "codemirror_mode": {
    "name": "ipython",
    "version": 3
   },
   "file_extension": ".py",
   "mimetype": "text/x-python",
   "name": "python",
   "nbconvert_exporter": "python",
   "pygments_lexer": "ipython3",
   "version": "3.9.12"
  }
 },
 "nbformat": 4,
 "nbformat_minor": 5
}
